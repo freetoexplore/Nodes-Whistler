{
 "cells": [
  {
   "cell_type": "code",
   "execution_count": 46,
   "metadata": {},
   "outputs": [],
   "source": [
    "import numpy as np\n",
    "import matplotlib.pyplot as plt\n",
    "from sklearn.linear_model import LinearRegression\n",
    "from sklearn.model_selection import train_test_split\n",
    "\n",
    "# input data\n",
    "x = np.array([0.02, 0.05, 0.1, 0.21, 0.33, 0.5, 0.56, 0.67, 1, \n",
    "              1.23, 1.73, 4.43, 7.75, 9.87, 10.85, 11.18, 11.8, 12, 12.97, 13]).reshape(-1, 1)\n",
    "y = np.array([10, 25.23, 50, 101, 146, 191, 200, 216, 247, 300, \n",
    "              320.53, 362, 417, 500, 535.68, 547.7, 570.27, 576, 604.17, 605]).reshape(-1, 1)"
   ]
  },
  {
   "cell_type": "code",
   "execution_count": 47,
   "metadata": {},
   "outputs": [
    {
     "data": {
      "text/plain": [
       "LinearRegression()"
      ]
     },
     "execution_count": 47,
     "metadata": {},
     "output_type": "execute_result"
    }
   ],
   "source": [
    "# train, test split\n",
    "X_train, X_test, y_train, y_test = train_test_split(x, y, test_size=0.33, random_state=42)\n",
    "model = LinearRegression()\n",
    "model.fit(X_train, y_train)"
   ]
  },
  {
   "cell_type": "code",
   "execution_count": 51,
   "metadata": {},
   "outputs": [
    {
     "name": "stdout",
     "output_type": "stream",
     "text": [
      "预测缺失值： [[170.69478779]\n",
      " [184.48220118]\n",
      " [214.4698253 ]\n",
      " [413.69794876]\n",
      " [604.65362419]]\n"
     ]
    }
   ],
   "source": [
    "# predict missing values\n",
    "x_new = np.array([0.23, 0.63, 1.5, 7.28, 12.82])\n",
    "y_new = model.predict(x_new[:, np.newaxis])\n",
    "print('预测缺失值：', y_new)"
   ]
  },
  {
   "cell_type": "code",
   "execution_count": 54,
   "metadata": {},
   "outputs": [
    {
     "data": {
      "image/png": "[encoded data removed]",
      "text/plain": [
       "<Figure size 288x216 with 1 Axes>"
      ]
     },
     "metadata": {
      "needs_background": "light"
     },
     "output_type": "display_data"
    }
   ],
   "source": [
    "# plot results\n",
    "plt.figure(figsize=(4, 3))\n",
    "ax = plt.axes()\n",
    "ax.scatter(x, y)\n",
    "ax.scatter(x_new, y_new)\n",
    "ax.plot(x_new, y_new)\n",
    "\n",
    "ax.set_xlabel('x')\n",
    "ax.set_ylabel('y')\n",
    "\n",
    "ax.axis('tight')\n",
    "plt.title('Predicted Values in Orange')\n",
    "plt.show()"
   ]
  }
 ],
 "metadata": {
  "kernelspec": {
   "display_name": "Python 3",
   "language": "python",
   "name": "python3"
  },
  "language_info": {
   "codemirror_mode": {
    "name": "ipython",
    "version": 3
   },
   "file_extension": ".py",
   "mimetype": "text/x-python",
   "name": "python",
   "nbconvert_exporter": "python",
   "pygments_lexer": "ipython3",
   "version": "3.8.5"
  }
 },
 "nbformat": 4,
 "nbformat_minor": 4
}
