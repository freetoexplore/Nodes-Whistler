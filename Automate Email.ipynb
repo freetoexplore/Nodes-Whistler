{
 "cells": [
  {
   "cell_type": "markdown",
   "metadata": {},
   "source": [
    "### Method 1: Proven works. From: https://www.bilibili.com/video/BV1st4y1B78N"
   ]
  },
  {
   "cell_type": "code",
   "execution_count": 5,
   "metadata": {},
   "outputs": [],
   "source": [
    "import schedule\n",
    "import smtplib\n",
    "from email.mime.text import MIMEText\n",
    "from email.utils import formataddr\n",
    "\n",
    "def mail():\n",
    "    msg = MIMEText(\"Hi, this is a testing mail. Since I don't have authentication on outlook SMTP from corporate device, this mail is sent from 126 mailbox on personal device.\\\n",
    "    For self study, feel free to visit:  https://www.bilibili.com/video/BV1st4y1B78N¶ \\\n",
    "    For code review, the right place is: https://github.com/gaoxx844 To test on yourself, you can copy from line 9 to line 25 in file Automate Email.py from Repository Email Automation\", 'html', 'utf-8')\n",
    "    msg['From'] = formataddr([\"Gao, Eden-YD\", \"ydangao@126.com\"])\n",
    "    msg['Subject'] = \"One Sentence A Day\"\n",
    "\n",
    "    server = smtplib.SMTP_SSL(\"smtp.126.com\")\n",
    "    server.login(\"ydangao@126.com\", \"GYMNHNGSDCORYLXJ\")\n",
    "    to = [\"1456679221@qq.com\", \"Eden-YD.Gao@aia.com\", \"\", \"\"]\n",
    "    server.sendmail(\"ydangao@126.com\", to, msg.as_string())\n",
    "    server.quit()\n",
    "    \n",
    "mail()"
   ]
  },
  {
   "cell_type": "markdown",
   "metadata": {},
   "source": [
    "Method 2: Can't work on scheduling"
   ]
  },
  {
   "cell_type": "code",
   "execution_count": null,
   "metadata": {},
   "outputs": [],
   "source": [
    "import schedule\n",
    "import time\n",
    "from email.mime.text import MIMEText\n",
    "from email.mime.image import MIMEImage\n",
    "from email.mime.application import MIMEApplication\n",
    "from email.mime.multipart import MIMEMultipart\n",
    "import smtplib\n",
    "import os"
   ]
  },
  {
   "cell_type": "code",
   "execution_count": 22,
   "metadata": {},
   "outputs": [
    {
     "data": {
      "text/plain": [
       "Every 1 day at 17:24:00 do mail() (last run: [never], next run: 2022-03-16 17:24:00)"
      ]
     },
     "execution_count": 22,
     "metadata": {},
     "output_type": "execute_result"
    }
   ],
   "source": [
    "# send our email message 'msg' to our boss\n",
    "def message(subject=\"Python Notification\",\n",
    "\t\t\ttext=\"\", img=None, attachment=None):\n",
    "\t\n",
    "\t# build message contents\n",
    "\tmsg = MIMEMultipart()\n",
    "\t\n",
    "\t# Add Subject\n",
    "\tmsg['Subject'] = subject\n",
    "\t\n",
    "\t# Add text contents\n",
    "\tmsg.attach(MIMEText(text))\n",
    "\n",
    "\t# Check if we have anything\n",
    "\t# given in the img parameter\n",
    "\tif img is not None:\n",
    "\n",
    "\t\t# Check whether we have the\n",
    "\t\t# lists of images or not!\n",
    "\t\tif type(img) is not list:\n",
    "\t\t\t\n",
    "\t\t\t# if it isn't a list, make it one\n",
    "\t\t\timg = [img]\n",
    "\n",
    "\t\t# Now iterate through our list\n",
    "\t\tfor one_img in img:\n",
    "\t\t\t\n",
    "\t\t\t# read the image binary data\n",
    "\t\t\timg_data = open(one_img, 'rb').read()\n",
    "\t\t\t\n",
    "\t\t\t# Attach the image data to MIMEMultipart\n",
    "\t\t\t# using MIMEImage,\n",
    "\t\t\t# we add the given filename use os.basename\n",
    "\t\t\tmsg.attach(MIMEImage(img_data,\n",
    "\t\t\t\t\t\t\t\tname=os.path.basename(one_img)))\n",
    "\n",
    "\t# We do the same for attachments\n",
    "\t# as we did for images\n",
    "\tif attachment is not None:\n",
    "\n",
    "\t\t# Check whether we have the\n",
    "\t\t# lists of attachments or not!\n",
    "\t\tif type(attachment) is not list:\n",
    "\t\t\t\n",
    "\t\t\t# if it isn't a list, make it one\n",
    "\t\t\tattachment = [attachment]\n",
    "\n",
    "\t\tfor one_attachment in attachment:\n",
    "\n",
    "\t\t\twith open(one_attachment, 'rb') as f:\n",
    "\t\t\t\t\n",
    "\t\t\t\t# Read in the attachment using MIMEApplication\n",
    "\t\t\t\tfile = MIMEApplication(\n",
    "\t\t\t\t\tf.read(),\n",
    "\t\t\t\t\tname=os.path.basename(one_attachment)\n",
    "\t\t\t\t)\n",
    "\t\t\tfile['Content-Disposition'] = f'attachment;\\\n",
    "\t\t\tfilename=\"{os.path.basename(one_attachment)}\"'\n",
    "\t\t\t\n",
    "\t\t\t# At last, Add the attachment to our message object\n",
    "\t\t\tmsg.attach(file)\n",
    "\treturn msg\n",
    "\n",
    "\n",
    "def mail():\n",
    "\t\n",
    "\t# initialize connection to our email server,\n",
    "\t# we will use gmail here\n",
    "\tsmtp = smtplib.SMTP('outlook.office365.com', 995)\n",
    "\tsmtp.ehlo()\n",
    "\tsmtp.starttls()\n",
    "\t\n",
    "\t# Login with your email and password\n",
    "\tsmtp.login('Eden-YD.Gao@aia.com', 'Dangle0129!')\n",
    "\n",
    "\t# Call the message function\n",
    "\tmsg = message(\"Good!\", \"Hi there!\"\n",
    "\t\t\t\t#,r\"C:\\Users\\Dell\\Downloads\\Garbage\\Cartoon.jpg\"\n",
    "\t\t\t\t#,r\"C:\\Users\\Dell\\Desktop\\slack.py\"\n",
    "                 )\n",
    "\t\n",
    "\t# Make a list of emails, where you wanna send mail\n",
    "\tto = [\"1456679221@qq.com\"]\n",
    "\n",
    "\t# Provide some data to the sendmail function!\n",
    "\tsmtp.sendmail(from_addr=\"Eden-YD.Gao@aia.com\",\n",
    "\t\t\t\tto_addrs=to, msg=msg.as_string())\n",
    "\t\n",
    "\t# Finally, don't forget to close the connection\n",
    "\tsmtp.quit()\n",
    "\n",
    "\n",
    "#schedule.every(2).seconds.do(mail)\n",
    "#schedule.every(10).minutes.do(mail)\n",
    "#schedule.every().hour.do(mail)\n",
    "#schedule.every().day.at(\"17:24\").do(mail)\n",
    "#schedule.every(5).to(10).minutes.do(mail)\n",
    "#schedule.every().monday.do(mail)\n",
    "#schedule.every().wednesday.at(\"13:15\").do(mail)\n",
    "#schedule.every().minute.at(\":17\").do(mail)\n",
    "\n",
    "#while True:\n",
    "#\tschedule.run_pending()\n",
    "#\ttime.sleep(1)\n"
   ]
  },
  {
   "cell_type": "code",
   "execution_count": 25,
   "metadata": {},
   "outputs": [
    {
     "data": {
      "text/plain": [
       "Every 1 day at 17:34:00 do mail() (last run: [never], next run: 2022-03-16 17:34:00)"
      ]
     },
     "execution_count": 25,
     "metadata": {},
     "output_type": "execute_result"
    }
   ],
   "source": [
    "message(subject=\"Python Notification\",\n",
    "\t\t\ttext=\"\", img=None, attachment=None)\n",
    "\n",
    "schedule.every().day.at(\"17:34\").do(mail)\n"
   ]
  }
 ],
 "metadata": {
  "kernelspec": {
   "display_name": "Python 3",
   "language": "python",
   "name": "python3"
  },
  "language_info": {
   "codemirror_mode": {
    "name": "ipython",
    "version": 3
   },
   "file_extension": ".py",
   "mimetype": "text/x-python",
   "name": "python",
   "nbconvert_exporter": "python",
   "pygments_lexer": "ipython3",
   "version": "3.8.5"
  }
 },
 "nbformat": 4,
 "nbformat_minor": 4
}
